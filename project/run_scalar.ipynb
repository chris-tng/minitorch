{
 "cells": [
  {
   "cell_type": "code",
   "execution_count": 1,
   "metadata": {},
   "outputs": [],
   "source": [
    "import sys\n",
    "sys.path.append(\"..\")\n",
    "\n",
    "import minitorch\n",
    "import matplotlib.pyplot as plt\n",
    "import random\n",
    "import datasets"
   ]
  },
  {
   "cell_type": "code",
   "execution_count": 2,
   "metadata": {},
   "outputs": [
    {
     "name": "stderr",
     "output_type": "stream",
     "text": [
      "Setting up a new session...\n"
     ]
    }
   ],
   "source": [
    "PTS = 50\n",
    "DATASET = datasets.Simple(PTS, vis=True)\n",
    "HIDDEN = 2\n",
    "RATE = 0.5"
   ]
  },
  {
   "cell_type": "markdown",
   "metadata": {},
   "source": [
    "Set-up a binary classifier being a 3-layer NN with ReLU activation and sigmoid output"
   ]
  },
  {
   "cell_type": "code",
   "execution_count": 3,
   "metadata": {},
   "outputs": [],
   "source": [
    "class Network(minitorch.Module):\n",
    "    def __init__(self):\n",
    "        super().__init__()\n",
    "\n",
    "        # Submodules\n",
    "        self.layer1 = Linear(2, HIDDEN)\n",
    "        self.layer2 = Linear(HIDDEN, HIDDEN)\n",
    "        self.layer3 = Linear(HIDDEN, 1)\n",
    "\n",
    "    def forward(self, x):\n",
    "        h = [h.relu() for h in self.layer1.forward(x)]\n",
    "        h = [h.relu() for h in self.layer2.forward(h)]\n",
    "        return self.layer3.forward(h)[0].sigmoid()"
   ]
  },
  {
   "cell_type": "code",
   "execution_count": 4,
   "metadata": {},
   "outputs": [],
   "source": [
    "class Linear(minitorch.Module):\n",
    "    \"Simple linear layer with all weights represented by `Scalar`\"\n",
    "    \n",
    "    def __init__(self, in_size, out_size):\n",
    "        super().__init__()\n",
    "        self.weights = []\n",
    "        self.bias = []\n",
    "        for i in range(in_size):\n",
    "            self.weights.append([])\n",
    "            for j in range(out_size):\n",
    "                self.weights[i].append(\n",
    "                    self.add_parameter(\n",
    "                        f\"weight_{i}_{j}\", minitorch.Scalar(2 * (random.random() - 0.5))\n",
    "                    )\n",
    "                )\n",
    "        for j in range(out_size):\n",
    "            self.bias.append(\n",
    "                self.add_parameter(\n",
    "                    f\"bias_{j}\", minitorch.Scalar(2 * (random.random() - 0.5))\n",
    "                )\n",
    "            )\n",
    "\n",
    "    def forward(self, inputs):\n",
    "        y = [b.value for b in self.bias]\n",
    "        for i, x in enumerate(inputs):\n",
    "            for j in range(len(y)):\n",
    "                y[j] = y[j] + x * self.weights[i][j].value\n",
    "        return y"
   ]
  },
  {
   "cell_type": "code",
   "execution_count": 5,
   "metadata": {},
   "outputs": [],
   "source": [
    "model = Network()\n",
    "data = DATASET\n",
    "losses = []"
   ]
  },
  {
   "cell_type": "code",
   "execution_count": 6,
   "metadata": {},
   "outputs": [
    {
     "data": {
      "text/plain": [
       "[(0.04949386592842675, 0.6573716645230362),\n",
       " (0.013585840230311175, 0.019544645066831734)]"
      ]
     },
     "execution_count": 6,
     "metadata": {},
     "output_type": "execute_result"
    }
   ],
   "source": [
    "data.X[:2]"
   ]
  },
  {
   "cell_type": "code",
   "execution_count": 7,
   "metadata": {},
   "outputs": [
    {
     "data": {
      "text/plain": [
       "[1, 1]"
      ]
     },
     "execution_count": 7,
     "metadata": {},
     "output_type": "execute_result"
    }
   ],
   "source": [
    "data.y[:2]"
   ]
  },
  {
   "cell_type": "code",
   "execution_count": 8,
   "metadata": {},
   "outputs": [],
   "source": [
    "x_1, x_2 = data.X[0]\n",
    "y = data.y[0]\n",
    "x_1 = minitorch.Scalar(x_1)\n",
    "x_2 = minitorch.Scalar(x_2)"
   ]
  },
  {
   "cell_type": "code",
   "execution_count": 9,
   "metadata": {},
   "outputs": [],
   "source": [
    "out = model.forward((x_1, x_2))"
   ]
  },
  {
   "cell_type": "code",
   "execution_count": 10,
   "metadata": {},
   "outputs": [
    {
     "data": {
      "text/plain": [
       "Scalar(0.521801)"
      ]
     },
     "execution_count": 10,
     "metadata": {},
     "output_type": "execute_result"
    }
   ],
   "source": [
    "out"
   ]
  },
  {
   "cell_type": "code",
   "execution_count": 11,
   "metadata": {},
   "outputs": [],
   "source": [
    "loss = -out.log()"
   ]
  },
  {
   "cell_type": "code",
   "execution_count": 12,
   "metadata": {},
   "outputs": [
    {
     "data": {
      "text/plain": [
       "Scalar(0.650468)"
      ]
     },
     "execution_count": 12,
     "metadata": {},
     "output_type": "execute_result"
    }
   ],
   "source": [
    "loss"
   ]
  },
  {
   "cell_type": "code",
   "execution_count": 13,
   "metadata": {},
   "outputs": [
    {
     "data": {
      "text/plain": [
       "dict_values([Scalar(0.446945), Scalar(0.586496), Scalar(0.083623), Scalar(-0.533186), Scalar(0.646276), Scalar(-0.154666)])"
      ]
     },
     "execution_count": 13,
     "metadata": {},
     "output_type": "execute_result"
    }
   ],
   "source": [
    "model.layer1.parameters()"
   ]
  },
  {
   "cell_type": "code",
   "execution_count": 7,
   "metadata": {},
   "outputs": [],
   "source": [
    "from ipdb import launch_ipdb_on_exception"
   ]
  },
  {
   "cell_type": "code",
   "execution_count": 15,
   "metadata": {},
   "outputs": [
    {
     "name": "stdout",
     "output_type": "stream",
     "text": [
      "Epoch  0  loss  34.923432063426766 correct 27\n",
      "Epoch  10  loss  34.546020972778884 correct 27\n",
      "Epoch  20  loss  34.3422082075232 correct 27\n",
      "Epoch  30  loss  34.03897745616302 correct 27\n",
      "Epoch  40  loss  33.22313564916838 correct 27\n",
      "Epoch  50  loss  30.681471296030736 correct 42\n",
      "Epoch  60  loss  26.477073568743425 correct 38\n",
      "Epoch  70  loss  20.14692031295453 correct 44\n",
      "Epoch  80  loss  14.706530253793446 correct 48\n",
      "Epoch  90  loss  10.924208117805486 correct 50\n",
      "Epoch  100  loss  9.594854558700833 correct 49\n",
      "Epoch  110  loss  15.165886380444764 correct 44\n",
      "Epoch  120  loss  6.39933326000242 correct 50\n",
      "Epoch  130  loss  5.202099386935146 correct 50\n",
      "Epoch  140  loss  4.145769410894841 correct 50\n",
      "Epoch  150  loss  3.6193735631712394 correct 50\n",
      "Epoch  160  loss  3.1972298730566306 correct 50\n",
      "Epoch  170  loss  2.8197935397211555 correct 50\n",
      "Epoch  180  loss  2.5480151398155337 correct 50\n",
      "Epoch  190  loss  2.3191837027217073 correct 50\n",
      "Epoch  200  loss  2.1237575520129814 correct 50\n",
      "Epoch  210  loss  1.9557331156213205 correct 50\n",
      "Epoch  220  loss  1.8097237826934403 correct 50\n",
      "Epoch  230  loss  1.6816632078217864 correct 50\n",
      "Epoch  240  loss  1.5684874707144583 correct 50\n",
      "Epoch  250  loss  1.4679100317850236 correct 50\n",
      "Epoch  260  loss  1.3780701427717212 correct 50\n",
      "Epoch  270  loss  1.2974403355428052 correct 50\n",
      "Epoch  280  loss  1.2247570863370283 correct 50\n",
      "Epoch  290  loss  1.1589679207633532 correct 50\n",
      "Epoch  300  loss  1.0991905335803032 correct 50\n",
      "Epoch  310  loss  1.0463523318928858 correct 50\n",
      "Epoch  320  loss  0.9971179918511295 correct 50\n",
      "Epoch  330  loss  0.9515986192287313 correct 50\n",
      "Epoch  340  loss  0.9096198528101415 correct 50\n",
      "Epoch  350  loss  0.8708825607011824 correct 50\n",
      "Epoch  360  loss  0.8356964797771909 correct 50\n",
      "Epoch  370  loss  0.8032421977303711 correct 50\n",
      "Epoch  380  loss  0.7730594965335619 correct 50\n",
      "Epoch  390  loss  0.7458076254603151 correct 50\n",
      "Epoch  400  loss  0.7193484472745707 correct 50\n",
      "Epoch  410  loss  0.6950949066772133 correct 50\n",
      "Epoch  420  loss  0.6726406028105708 correct 50\n",
      "Epoch  430  loss  0.651516956319874 correct 50\n",
      "Epoch  440  loss  0.6315761674616702 correct 50\n",
      "Epoch  450  loss  0.6127066571446078 correct 50\n",
      "Epoch  460  loss  0.5948182161272554 correct 50\n",
      "Epoch  470  loss  0.5778344373089012 correct 50\n",
      "Epoch  480  loss  0.5616886509752697 correct 50\n",
      "Epoch  490  loss  0.5463215947390115 correct 50\n"
     ]
    },
    {
     "data": {
      "image/png": "[encoded data removed]",
      "text/plain": [
       "<Figure size 432x288 with 1 Axes>"
      ]
     },
     "metadata": {
      "needs_background": "light"
     },
     "output_type": "display_data"
    }
   ],
   "source": [
    "for epoch in range(500):\n",
    "    total_loss = 0.0\n",
    "    correct = 0\n",
    "\n",
    "    # Forward\n",
    "    for i in range(data.N):\n",
    "        x_1, x_2 = data.X[i]\n",
    "        y = data.y[i]\n",
    "        x_1 = minitorch.Scalar(x_1)\n",
    "        x_2 = minitorch.Scalar(x_2)\n",
    "        out = model.forward((x_1, x_2))\n",
    "\n",
    "        if y == 1:\n",
    "            prob = out\n",
    "            correct += 1 if out.data > 0.5 else 0\n",
    "        else:\n",
    "            prob = -out + 1.0\n",
    "            correct += 1 if out.data < 0.5 else 0\n",
    "\n",
    "        loss = -prob.log()\n",
    "        # with launch_ipdb_on_exception():\n",
    "        loss.backward()\n",
    "        total_loss += loss.data\n",
    "\n",
    "    # Update\n",
    "    losses.append(total_loss)\n",
    "    for p in model.parameters():\n",
    "        if p.value.derivative is not None:\n",
    "            p.update(\n",
    "                minitorch.Scalar(p.value.data - RATE * (p.value.derivative / data.N))\n",
    "            )\n",
    "\n",
    "    # Logging\n",
    "    if epoch % 10 == 0:\n",
    "        print(\"Epoch \", epoch, \" loss \", total_loss, \"correct\", correct)\n",
    "        im = f\"Epoch: {epoch}\"\n",
    "        data.graph(\n",
    "            im,\n",
    "            lambda x: model.forward(\n",
    "                (minitorch.Scalar(x[0]), minitorch.Scalar(x[1]))\n",
    "            ).data,\n",
    "        )\n",
    "        plt.plot(losses, c=\"blue\")\n",
    "        data.vis.matplot(plt, win=\"loss\")"
   ]
  },
  {
   "cell_type": "code",
   "execution_count": null,
   "metadata": {},
   "outputs": [],
   "source": []
  },
  {
   "cell_type": "code",
   "execution_count": 16,
   "metadata": {},
   "outputs": [
    {
     "name": "stderr",
     "output_type": "stream",
     "text": [
      "Setting up a new session...\n"
     ]
    }
   ],
   "source": [
    "PTS = 50\n",
    "DATASET = datasets.Xor(PTS, vis=True)\n",
    "HIDDEN = 10\n",
    "RATE = 0.5"
   ]
  },
  {
   "cell_type": "code",
   "execution_count": 18,
   "metadata": {},
   "outputs": [
    {
     "name": "stdout",
     "output_type": "stream",
     "text": [
      "Epoch  0  loss  33.571627662905804 correct 30\n",
      "Epoch  10  loss  30.786279100448 correct 31\n",
      "Epoch  20  loss  29.36182587550234 correct 31\n",
      "Epoch  30  loss  28.065186209055756 correct 38\n",
      "Epoch  40  loss  26.872782760711928 correct 38\n",
      "Epoch  50  loss  25.826492909477455 correct 38\n",
      "Epoch  60  loss  24.86604027537892 correct 39\n",
      "Epoch  70  loss  26.432730244511998 correct 39\n",
      "Epoch  80  loss  25.54620039421402 correct 39\n",
      "Epoch  90  loss  24.84863242315915 correct 39\n",
      "Epoch  100  loss  24.348629773588723 correct 39\n",
      "Epoch  110  loss  26.002180236948877 correct 39\n",
      "Epoch  120  loss  24.971385396942374 correct 39\n",
      "Epoch  130  loss  24.988836514204394 correct 39\n",
      "Epoch  140  loss  24.544329282898325 correct 39\n",
      "Epoch  150  loss  24.96482913343386 correct 39\n",
      "Epoch  160  loss  25.31722811451528 correct 39\n",
      "Epoch  170  loss  24.657466797164634 correct 39\n",
      "Epoch  180  loss  24.177246904295448 correct 39\n",
      "Epoch  190  loss  24.21708952583486 correct 39\n",
      "Epoch  200  loss  23.893785577923783 correct 39\n",
      "Epoch  210  loss  23.91167086104545 correct 39\n",
      "Epoch  220  loss  24.149995522463634 correct 39\n",
      "Epoch  230  loss  23.556912997358776 correct 38\n",
      "Epoch  240  loss  24.021270343607256 correct 38\n",
      "Epoch  250  loss  26.497490047037346 correct 39\n",
      "Epoch  260  loss  24.768205910463962 correct 39\n",
      "Epoch  270  loss  22.548879045478483 correct 38\n",
      "Epoch  280  loss  24.975698535765883 correct 39\n",
      "Epoch  290  loss  22.626806432129584 correct 39\n",
      "Epoch  300  loss  24.519230863220905 correct 39\n",
      "Epoch  310  loss  22.925856318841138 correct 39\n",
      "Epoch  320  loss  23.35385168695097 correct 39\n",
      "Epoch  330  loss  23.181520342618963 correct 40\n",
      "Epoch  340  loss  23.723123140352016 correct 38\n",
      "Epoch  350  loss  25.883304161090855 correct 40\n",
      "Epoch  360  loss  23.715126695415094 correct 40\n",
      "Epoch  370  loss  22.42581507215515 correct 39\n",
      "Epoch  380  loss  23.37715241967141 correct 39\n",
      "Epoch  390  loss  21.990267046443197 correct 39\n",
      "Epoch  400  loss  22.615348984044477 correct 39\n",
      "Epoch  410  loss  22.648165826504048 correct 40\n",
      "Epoch  420  loss  23.26956390914099 correct 39\n",
      "Epoch  430  loss  22.095754365367455 correct 40\n",
      "Epoch  440  loss  21.68589424297724 correct 40\n",
      "Epoch  450  loss  22.925904643966465 correct 40\n",
      "Epoch  460  loss  21.985641870756695 correct 40\n",
      "Epoch  470  loss  25.146610821062282 correct 39\n",
      "Epoch  480  loss  22.35416427234806 correct 40\n",
      "Epoch  490  loss  23.498026268964388 correct 40\n"
     ]
    },
    {
     "data": {
      "image/png": "[encoded data removed]",
      "text/plain": [
       "<Figure size 432x288 with 1 Axes>"
      ]
     },
     "metadata": {
      "needs_background": "light"
     },
     "output_type": "display_data"
    }
   ],
   "source": [
    "model = Network()\n",
    "data = DATASET\n",
    "losses = []\n",
    "\n",
    "for epoch in range(500):\n",
    "    total_loss = 0.0\n",
    "    correct = 0\n",
    "\n",
    "    # Forward\n",
    "    for i in range(data.N):\n",
    "        x_1, x_2 = data.X[i]\n",
    "        y = data.y[i]\n",
    "        x_1 = minitorch.Scalar(x_1)\n",
    "        x_2 = minitorch.Scalar(x_2)\n",
    "        out = model.forward((x_1, x_2))\n",
    "\n",
    "        if y == 1:\n",
    "            prob = out\n",
    "            correct += 1 if out.data > 0.5 else 0\n",
    "        else:\n",
    "            prob = -out + 1.0\n",
    "            correct += 1 if out.data < 0.5 else 0\n",
    "\n",
    "        loss = -prob.log()\n",
    "        # with launch_ipdb_on_exception():\n",
    "        loss.backward()\n",
    "        total_loss += loss.data\n",
    "\n",
    "    # Update\n",
    "    losses.append(total_loss)\n",
    "    for p in model.parameters():\n",
    "        if p.value.derivative is not None:\n",
    "            p.update(\n",
    "                minitorch.Scalar(p.value.data - RATE * (p.value.derivative / data.N))\n",
    "            )\n",
    "\n",
    "    # Logging\n",
    "    if epoch % 10 == 0:\n",
    "        print(\"Epoch \", epoch, \" loss \", total_loss, \"correct\", correct)\n",
    "        im = f\"Epoch: {epoch}\"\n",
    "        data.graph(\n",
    "            im,\n",
    "            lambda x: model.forward(\n",
    "                (minitorch.Scalar(x[0]), minitorch.Scalar(x[1]))\n",
    "            ).data,\n",
    "        )\n",
    "        plt.plot(losses, c=\"blue\")\n",
    "        data.vis.matplot(plt, win=\"loss\")"
   ]
  },
  {
   "cell_type": "code",
   "execution_count": null,
   "metadata": {},
   "outputs": [],
   "source": []
  }
 ],
 "metadata": {
  "jupytext": {
   "cell_metadata_filter": "-all",
   "formats": "py:light,ipynb",
   "notebook_metadata_filter": "-all"
  },
  "kernelspec": {
   "display_name": "minitorch",
   "language": "python",
   "name": "minitorch"
  },
  "language_info": {
   "codemirror_mode": {
    "name": "ipython",
    "version": 3
   },
   "file_extension": ".py",
   "mimetype": "text/x-python",
   "name": "python",
   "nbconvert_exporter": "python",
   "pygments_lexer": "ipython3",
   "version": "3.7.7"
  },
  "toc": {
   "base_numbering": 1,
   "nav_menu": {},
   "number_sections": true,
   "sideBar": true,
   "skip_h1_title": false,
   "title_cell": "Table of Contents",
   "title_sidebar": "Contents",
   "toc_cell": false,
   "toc_position": {},
   "toc_section_display": true,
   "toc_window_display": false
  }
 },
 "nbformat": 4,
 "nbformat_minor": 4
}
