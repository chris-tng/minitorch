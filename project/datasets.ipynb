{
 "cells": [
  {
   "cell_type": "code",
   "execution_count": 1,
   "metadata": {},
   "outputs": [],
   "source": [
    "import numpy\n",
    "import random\n",
    "import visdom\n",
    "import numpy as np\n",
    "from matplotlib.backends.backend_agg import FigureCanvasAgg as FigureCanvas\n",
    "from matplotlib.figure import Figure"
   ]
  },
  {
   "cell_type": "code",
   "execution_count": 2,
   "metadata": {},
   "outputs": [],
   "source": [
    "def to_fig(canvas):\n",
    "    canvas.draw()\n",
    "    s, (width, height) = canvas.print_to_buffer()\n",
    "    return np.frombuffer(s, np.uint8).reshape((height, width, 4))"
   ]
  },
  {
   "cell_type": "code",
   "execution_count": 3,
   "metadata": {},
   "outputs": [],
   "source": [
    "def make_pts(N):\n",
    "    X = []\n",
    "    for i in range(N):\n",
    "        x_1 = random.random()\n",
    "        x_2 = random.random()\n",
    "        X.append((x_1, x_2))\n",
    "    return X"
   ]
  },
  {
   "cell_type": "code",
   "execution_count": 4,
   "metadata": {},
   "outputs": [],
   "source": [
    "class Graph:\n",
    "    def __init__(self, vis=False):\n",
    "        self.gifs = []\n",
    "        if vis:\n",
    "            self.vis = visdom.Visdom()\n",
    "        else:\n",
    "            self.vis = None\n",
    "        self.first = True\n",
    "\n",
    "    def graph(self, outfile, model=None):\n",
    "        if self.vis is None:\n",
    "            return\n",
    "        fig = Figure()\n",
    "        canvas = FigureCanvas(fig)\n",
    "        ax = fig.gca()\n",
    "\n",
    "        if model is not None:\n",
    "            X = []\n",
    "            Y = []\n",
    "            Z = []\n",
    "            for i in range(11):\n",
    "                inner = []\n",
    "                innerx = []\n",
    "                innery = []\n",
    "                for j in range(11):\n",
    "                    x_1 = i / 10.0\n",
    "                    x_2 = j / 10.0\n",
    "                    innerx.append(x_1)\n",
    "                    innery.append(x_2)\n",
    "                    val = model([x_1, x_2])\n",
    "                    inner.append(val)\n",
    "                    Z.append(inner)\n",
    "                    X.append(innerx)\n",
    "                    Y.append(innery)\n",
    "\n",
    "            Z = numpy.array(Z)\n",
    "            ax.contourf(X, Y, Z)\n",
    "\n",
    "        ax.scatter(\n",
    "            [p[0] for p in self.X], [p[1] for p in self.X], c=self.y, edgecolors=\"black\"\n",
    "        )\n",
    "        # plt.savefig(outfile)\n",
    "        ax.set_title(outfile)\n",
    "        im = to_fig(canvas)\n",
    "        if self.first:\n",
    "            self.vis.close(win=\"Progress\")\n",
    "        self.vis.image(\n",
    "            im.transpose(2, 0, 1), win=\"Progress\", opts=dict(store_history=True)\n",
    "        )\n",
    "        self.first = False"
   ]
  },
  {
   "cell_type": "code",
   "execution_count": 5,
   "metadata": {},
   "outputs": [],
   "source": [
    "class Simple(Graph):\n",
    "    def __init__(self, N, vis=False):\n",
    "        super().__init__(vis)\n",
    "        self.N = N\n",
    "        self.X = make_pts(N)\n",
    "        self.y = []\n",
    "        for x_1, x_2 in self.X:\n",
    "            y = 1 if x_1 < 0.5 else 0\n",
    "            self.y.append(y)"
   ]
  },
  {
   "cell_type": "code",
   "execution_count": 6,
   "metadata": {},
   "outputs": [],
   "source": [
    "class Split(Graph):\n",
    "    def __init__(self, N, vis=False):\n",
    "        super().__init__(vis)\n",
    "        self.N = N\n",
    "        self.X = make_pts(N)\n",
    "        self.y = []\n",
    "        for x_1, x_2 in self.X:\n",
    "            y = 1 if x_1 < 0.2 or x_1 > 0.8 else 0\n",
    "            self.y.append(y)"
   ]
  },
  {
   "cell_type": "code",
   "execution_count": 7,
   "metadata": {},
   "outputs": [],
   "source": [
    "class Xor(Graph):\n",
    "    def __init__(self, N, vis=False):\n",
    "        super().__init__(vis)\n",
    "        self.N = N\n",
    "        self.X = make_pts(N)\n",
    "        self.y = []\n",
    "        for x_1, x_2 in self.X:\n",
    "            y = 1 if ((x_1 < 0.5 and x_2 > 0.5) or (x_1 > 0.5 and x_2 < 0.5)) else 0\n",
    "            self.y.append(y)"
   ]
  }
 ],
 "metadata": {
  "jupytext": {
   "formats": "py:light,ipynb"
  },
  "kernelspec": {
   "display_name": "minitorch",
   "language": "python",
   "name": "minitorch"
  },
  "language_info": {
   "codemirror_mode": {
    "name": "ipython",
    "version": 3
   },
   "file_extension": ".py",
   "mimetype": "text/x-python",
   "name": "python",
   "nbconvert_exporter": "python",
   "pygments_lexer": "ipython3",
   "version": "3.7.7"
  },
  "toc": {
   "base_numbering": 1,
   "nav_menu": {},
   "number_sections": true,
   "sideBar": true,
   "skip_h1_title": false,
   "title_cell": "Table of Contents",
   "title_sidebar": "Contents",
   "toc_cell": false,
   "toc_position": {},
   "toc_section_display": true,
   "toc_window_display": false
  }
 },
 "nbformat": 4,
 "nbformat_minor": 4
}
