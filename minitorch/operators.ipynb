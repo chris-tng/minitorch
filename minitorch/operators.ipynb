{
 "cells": [
  {
   "cell_type": "markdown",
   "metadata": {},
   "source": [
    "Basic math operations as well as a few warmup problems for testing out your functional programming chops in python. (Please ignore the @jit decorator for now. It will come back in later assignments.)"
   ]
  },
  {
   "cell_type": "code",
   "execution_count": null,
   "metadata": {},
   "outputs": [],
   "source": [
    "try:\n",
    "    from .util import jit\n",
    "except:\n",
    "    from util import jit\n",
    "import math"
   ]
  },
  {
   "cell_type": "code",
   "execution_count": null,
   "metadata": {},
   "outputs": [],
   "source": [
    "@jit\n",
    "def mul(x, y):\n",
    "    \":math:`f(x, y) = x * y`\"\n",
    "    return x * y"
   ]
  },
  {
   "cell_type": "code",
   "execution_count": null,
   "metadata": {},
   "outputs": [],
   "source": [
    "@jit\n",
    "def id(x):\n",
    "    \":math:`f(x) = x`\"\n",
    "    return x"
   ]
  },
  {
   "cell_type": "code",
   "execution_count": null,
   "metadata": {},
   "outputs": [],
   "source": [
    "@jit\n",
    "def add(x, y):\n",
    "    \":math:`f(x, y) = x + y`\"\n",
    "    return float(x + y)"
   ]
  },
  {
   "cell_type": "code",
   "execution_count": null,
   "metadata": {},
   "outputs": [],
   "source": [
    "@jit\n",
    "def neg(x):\n",
    "    \":math:`f(x) = -x`\"\n",
    "    return -float(x)"
   ]
  },
  {
   "cell_type": "code",
   "execution_count": null,
   "metadata": {},
   "outputs": [],
   "source": [
    "@jit\n",
    "def lt(x, y):\n",
    "    \":math:`f(x) =` 1.0 if x is greater then y else 0.0\"\n",
    "    return 1.0 if x > y else 0."
   ]
  },
  {
   "cell_type": "code",
   "execution_count": null,
   "metadata": {},
   "outputs": [],
   "source": [
    "EPS = 1e-6\n",
    "\n",
    "@jit\n",
    "def log(x):\n",
    "    \":math:`f(x) = log(x)`\"\n",
    "    return math.log(x + EPS)\n",
    "\n",
    "@jit\n",
    "def exp(x):\n",
    "    \":math:`f(x) = e^{x}`\"\n",
    "    return math.exp(x)\n",
    "\n",
    "@jit\n",
    "def log_back(a, b):\n",
    "    return b / (a + EPS)"
   ]
  },
  {
   "cell_type": "code",
   "execution_count": null,
   "metadata": {},
   "outputs": [],
   "source": [
    "@jit\n",
    "def sigmoid(x):\n",
    "    r\"\"\"\n",
    "    :math:`f(x) =  \\frac{1.0}{(1.0 + e^{-a})}`\n",
    "    (See https://en.wikipedia.org/wiki/Sigmoid_function .)\n",
    "    \"\"\"\n",
    "    return 1.0 / add(1.0, exp(-x))"
   ]
  },
  {
   "cell_type": "code",
   "execution_count": null,
   "metadata": {},
   "outputs": [],
   "source": [
    "@jit\n",
    "def relu(x):\n",
    "    \"\"\"\n",
    "    :math:`f(x) =` x if x is greater then y else 0\n",
    "    (See https://en.wikipedia.org/wiki/Rectifier_(neural_networks).)\n",
    "    \"\"\"\n",
    "    return x if x > 0. else 0."
   ]
  },
  {
   "cell_type": "code",
   "execution_count": null,
   "metadata": {},
   "outputs": [],
   "source": [
    "@jit\n",
    "def relu_back(x, y):\n",
    "    \":math:`f(x) =` y if x is greater then 0 else 0\"\n",
    "    return y if x > 0. else 0."
   ]
  },
  {
   "cell_type": "code",
   "execution_count": 1,
   "metadata": {},
   "outputs": [],
   "source": [
    "def inv(x):\n",
    "    \":math:`f(x) = 1/x`\"\n",
    "    return 1.0 / x"
   ]
  },
  {
   "cell_type": "code",
   "execution_count": null,
   "metadata": {},
   "outputs": [],
   "source": [
    "def inv_back(a, b):\n",
    "    return -(1.0 / a ** 2) * b"
   ]
  },
  {
   "cell_type": "code",
   "execution_count": null,
   "metadata": {},
   "outputs": [],
   "source": [
    "def eq(x, y):\n",
    "    \":math:`f(x) =` 1.0 if x is equal to y else 0.0\"\n",
    "    return 1. if x == y else 0."
   ]
  },
  {
   "cell_type": "markdown",
   "metadata": {},
   "source": [
    "### Higher-order functions"
   ]
  },
  {
   "cell_type": "code",
   "execution_count": null,
   "metadata": {},
   "outputs": [],
   "source": [
    "def map(fn):\n",
    "    \"\"\"\n",
    "    Higher-order map.\n",
    "    .. image:: figs/Ops/maplist.png\n",
    "    See https://en.wikipedia.org/wiki/Map_(higher-order_function)\n",
    "    Args:\n",
    "        fn (one-arg function): process one value\n",
    "    Returns:\n",
    "        function : a function that takes a list and applies `fn` to each element\n",
    "    \"\"\"\n",
    "    def _fn(ls):\n",
    "        return [fn(e) for e in ls]\n",
    "    return _fn"
   ]
  },
  {
   "cell_type": "code",
   "execution_count": null,
   "metadata": {},
   "outputs": [],
   "source": [
    "def negList(ls):\n",
    "    \"Use :func:`map` and :func:`neg` negate each element in `ls`\"\n",
    "    return map(neg)(ls)"
   ]
  },
  {
   "cell_type": "code",
   "execution_count": null,
   "metadata": {},
   "outputs": [],
   "source": [
    "def zipWith(fn):\n",
    "    \"\"\"\n",
    "    Higher-order zipwith (or map2).\n",
    "    .. image:: figs/Ops/ziplist.png\n",
    "    See https://en.wikipedia.org/wiki/Map_(higher-order_function)\n",
    "    Args:\n",
    "        fn (two-arg function): combine two values\n",
    "    Returns:\n",
    "        function : takes two equally sized lists `ls1` and `ls2`, produce a new list by\n",
    "    applying fn(x, y) one each pair of elements.\n",
    "    \"\"\"\n",
    "    def _fn(ls1, ls2):\n",
    "        return [fn(e1, e2) for e1, e2 in zip(ls1, ls2)]\n",
    "    return _fn"
   ]
  },
  {
   "cell_type": "code",
   "execution_count": null,
   "metadata": {},
   "outputs": [],
   "source": [
    "def addLists(ls1, ls2):\n",
    "    \"Add the elements of `ls1` and `ls2` using :func:`zipWith` and :func:`add`\"\n",
    "    return zipWith(add)(ls1, ls2)"
   ]
  },
  {
   "cell_type": "code",
   "execution_count": null,
   "metadata": {},
   "outputs": [],
   "source": [
    "def reduce(fn, start):\n",
    "    r\"\"\"\n",
    "    Higher-order reduce.\n",
    "    .. image:: figs/Ops/reducelist.png\n",
    "    Args:\n",
    "        fn (two-arg function): combine two values\n",
    "        start (float): start value :math:`x_0`\n",
    "    Returns:\n",
    "        function : function that takes a list `ls` of elements\n",
    "        :math:`x_1 \\ldots x_n` and computes the reduction :math:`fn(x_3, fn(x_2,\n",
    "        fn(x_1, x_0)))`\n",
    "    \"\"\"\n",
    "    def _fn(ls):\n",
    "        r = start\n",
    "        for e in ls:\n",
    "            r = fn(r, e)\n",
    "        return r\n",
    "    return _fn"
   ]
  },
  {
   "cell_type": "code",
   "execution_count": null,
   "metadata": {},
   "outputs": [],
   "source": [
    "def sum(ls):\n",
    "    \"\"\"\n",
    "    Sum up a list using :func:`reduce` and :func:`add`.\n",
    "    \"\"\"\n",
    "    return reduce(add, 0)(ls)"
   ]
  },
  {
   "cell_type": "code",
   "execution_count": null,
   "metadata": {},
   "outputs": [],
   "source": [
    "def prod(ls):\n",
    "    \"\"\"\n",
    "    Product of a list using :func:`reduce` and :func:`mul`.\n",
    "    \"\"\"\n",
    "    return reduce(mul, 1)(ls)"
   ]
  }
 ],
 "metadata": {
  "jupytext": {
   "formats": "ipynb,py:light"
  },
  "kernelspec": {
   "display_name": "minitorch",
   "language": "python",
   "name": "minitorch"
  },
  "language_info": {
   "codemirror_mode": {
    "name": "ipython",
    "version": 3
   },
   "file_extension": ".py",
   "mimetype": "text/x-python",
   "name": "python",
   "nbconvert_exporter": "python",
   "pygments_lexer": "ipython3",
   "version": "3.7.7"
  },
  "toc": {
   "base_numbering": 1,
   "nav_menu": {},
   "number_sections": true,
   "sideBar": true,
   "skip_h1_title": false,
   "title_cell": "Table of Contents",
   "title_sidebar": "Contents",
   "toc_cell": false,
   "toc_position": {},
   "toc_section_display": true,
   "toc_window_display": false
  }
 },
 "nbformat": 4,
 "nbformat_minor": 4
}
